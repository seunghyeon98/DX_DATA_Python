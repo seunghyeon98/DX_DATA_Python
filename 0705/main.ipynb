{
 "cells": [
  {
   "cell_type": "code",
   "execution_count": 7,
   "metadata": {},
   "outputs": [
    {
     "name": "stdout",
     "output_type": "stream",
     "text": [
      "Help on built-in function sum in module builtins:\n",
      "\n",
      "sum(iterable, /, start=0)\n",
      "    Return the sum of a 'start' value (default: 0) plus an iterable of numbers\n",
      "    \n",
      "    When the iterable is empty, return the start value.\n",
      "    This function is intended specifically for use with numeric values and may\n",
      "    reject non-numeric types.\n",
      "\n"
     ]
    }
   ],
   "source": [
    "# dir -> 이 함수가 iterator 인지, 아닌지를 확인할 수 있다.\n",
    "data = 'hello'\n",
    "dir(data)\n",
    "'''\n",
    "__ : 언버바가 붙어 있는 것은, 특수 메서드 이며, + 를 통해 호출할 수 있다.\n",
    "'''\n",
    "\n",
    "# help를 이용해서, sum에 대한 함수 설명 보기\n",
    "help(sum)"
   ]
  },
  {
   "cell_type": "code",
   "execution_count": null,
   "metadata": {},
   "outputs": [],
   "source": [
    "# 파이썬 예약어 확인\n",
    "import keyword\n",
    "keyword.kwlist"
   ]
  },
  {
   "cell_type": "code",
   "execution_count": 9,
   "metadata": {},
   "outputs": [
    {
     "data": {
      "text/plain": [
       "['c:\\\\Users\\\\USER\\\\Desktop\\\\vscode Workspace\\\\0705',\n",
       " 'c:\\\\ProgramData\\\\anaconda3\\\\python310.zip',\n",
       " 'c:\\\\ProgramData\\\\anaconda3\\\\DLLs',\n",
       " 'c:\\\\ProgramData\\\\anaconda3\\\\lib',\n",
       " 'c:\\\\ProgramData\\\\anaconda3',\n",
       " '',\n",
       " 'c:\\\\ProgramData\\\\anaconda3\\\\lib\\\\site-packages',\n",
       " 'c:\\\\ProgramData\\\\anaconda3\\\\lib\\\\site-packages\\\\win32',\n",
       " 'c:\\\\ProgramData\\\\anaconda3\\\\lib\\\\site-packages\\\\win32\\\\lib',\n",
       " 'c:\\\\ProgramData\\\\anaconda3\\\\lib\\\\site-packages\\\\Pythonwin']"
      ]
     },
     "execution_count": 9,
     "metadata": {},
     "output_type": "execute_result"
    }
   ],
   "source": [
    "# 모듈 순서 확인\n",
    "import sys\n",
    "sys.path\n",
    "# (anaconda 설치시) pip install 하면, 'c:\\\\ProgramData\\\\anaconda3\\\\python310.zip' 경로에 설치된다."
   ]
  },
  {
   "cell_type": "code",
   "execution_count": null,
   "metadata": {},
   "outputs": [],
   "source": [
    "dir(int)"
   ]
  },
  {
   "cell_type": "code",
   "execution_count": 27,
   "metadata": {},
   "outputs": [
    {
     "name": "stdout",
     "output_type": "stream",
     "text": [
      "133 8\n"
     ]
    }
   ],
   "source": [
    "loop=0\n",
    "cnt= 0 \n",
    "for idx in range(1,101):\n",
    "    loop +=1\n",
    "    if idx %3 ==0 :\n",
    "        loop +=1\n",
    "        if idx % 4== 0 :\n",
    "            cnt+=1\n",
    "print(loop,cnt)"
   ]
  },
  {
   "cell_type": "code",
   "execution_count": 28,
   "metadata": {},
   "outputs": [
    {
     "name": "stdout",
     "output_type": "stream",
     "text": [
      "125 25\n"
     ]
    }
   ],
   "source": [
    "loop=0\n",
    "cnt= 0 \n",
    "for idx in range(1,101):\n",
    "    loop +=1\n",
    "    if idx %4 ==0 :\n",
    "        loop +=1\n",
    "        if idx % 4== 0 :\n",
    "            cnt+=1\n",
    "print(loop,cnt)"
   ]
  },
  {
   "cell_type": "code",
   "execution_count": 47,
   "metadata": {},
   "outputs": [
    {
     "name": "stdout",
     "output_type": "stream",
     "text": [
      "윤년 아님\n"
     ]
    }
   ],
   "source": [
    "year = 2023\n",
    "print('윤년') if (year%400 ==0 or (year%100!=0 and year%4==0)) else print('윤년 아님')"
   ]
  },
  {
   "cell_type": "code",
   "execution_count": null,
   "metadata": {},
   "outputs": [],
   "source": [
    "'''\n",
    "\n",
    "반올림 하고 싶은 자리를, 소수 첫 번째 자리로 옮기는 연습을 하고,\n",
    "소수를 버리고 + 0.5하기\n",
    "\n",
    "Q. 3750 을 10의 자리에서 반올림 해서 백의 단위로 변환\n",
    "\n",
    "'''\n",
    "#  37.5 + 0.5 = 38 -> int(38.0) -> 38\n",
    "int(3750/100 + 0.5) *100"
   ]
  },
  {
   "cell_type": "code",
   "execution_count": null,
   "metadata": {},
   "outputs": [],
   "source": [
    "num= 20\n",
    "print(\"num은 %d\" %(num))"
   ]
  },
  {
   "cell_type": "code",
   "execution_count": 54,
   "metadata": {},
   "outputs": [
    {
     "name": "stdout",
     "output_type": "stream",
     "text": [
      "havi\n",
      "wrong input\n"
     ]
    }
   ],
   "source": [
    "name = input('이름을 입력해 주세요.:')\n",
    "print(name)\n",
    "\n",
    "try:\n",
    "    age = int(input('나이를 입력해 주세요.:'))\n",
    "    print(age)\n",
    "except:\n",
    "    print('wrong input')\n",
    "# 문제가 발생할만한 요소가 있다면, 예외 처리를 해주어, 나머지 작업을 수행될 수 있도록 해야한다,\n"
   ]
  },
  {
   "cell_type": "code",
   "execution_count": null,
   "metadata": {},
   "outputs": [],
   "source": [
    "# 여러개 입력\n",
    "hobbys = input(\"취미를 ,로 구분해서 입력\").split(',')\n",
    "for hobby in hobbys:\n",
    "    print(hobby)"
   ]
  }
 ],
 "metadata": {
  "kernelspec": {
   "display_name": "base",
   "language": "python",
   "name": "python3"
  },
  "language_info": {
   "codemirror_mode": {
    "name": "ipython",
    "version": 3
   },
   "file_extension": ".py",
   "mimetype": "text/x-python",
   "name": "python",
   "nbconvert_exporter": "python",
   "pygments_lexer": "ipython3",
   "version": "3.10.9"
  },
  "orig_nbformat": 4
 },
 "nbformat": 4,
 "nbformat_minor": 2
}
