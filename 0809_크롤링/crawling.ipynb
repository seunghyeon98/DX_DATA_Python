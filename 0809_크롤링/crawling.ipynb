{
 "cells": [
  {
   "cell_type": "code",
   "execution_count": null,
   "metadata": {},
   "outputs": [],
   "source": [
    "import urllib.request\n",
    "\n",
    "response = urllib.request.urlopen('http://www.kakao.com')\n",
    "\n",
    "data = response.read()\n",
    "\n",
    "encoding = response.info().get_content_charset()\n",
    "html = data.decode(encoding)\n",
    "print(html)"
   ]
  },
  {
   "cell_type": "code",
   "execution_count": 2,
   "metadata": {},
   "outputs": [
    {
     "name": "stdout",
     "output_type": "stream",
     "text": [
      "<!doctype html><html data-n-head-ssr lang=\"ko\" data-n-head=\"%7B%22lang%22:%7B%22ssr%22:%22ko%22%7D%7D\"><head ><title>카카오</title><meta data-n-head=\"ssr\" charset=\"utf-8\"><meta data-n-head=\"ssr\" name=\"viewport\" content=\"user-scalable=no, width=device-width, height=device-height, initial-scale=1, maximum-scale=1, minimum-scale=1.0, viewport-fit=cover\"><meta data-n-head=\"ssr\" property=\"og:type\" content=\"website\"><meta data-n-head=\"ssr\" property=\"og:site_name\" content=\"kakaocorp.com\"><meta data-n-head=\"ssr\" data-hid=\"url\" property=\"og:url\" content=\"//www.kakaocorp.com/page\"><meta data-n-head=\"ssr\" data-hid=\"title\" property=\"og:title\" content=\"Kakao\"><meta data-n-head=\"ssr\" data-hid=\"image\" property=\"og:image\" content=\"//t1.kakaocdn.net/kakaocorp/corp_thumbnail/Kakao.png\"><meta data-n-head=\"ssr\" data-hid=\"twitter\" name=\"twitter:image\" content=\"//t1.kakaocdn.net/kakaocorp/corp_thumbnail/Kakao.png\"><meta data-n-head=\"ssr\" name=\"naver-site-verification\" content=\"978574773c25b7ebacf3d4fb8308cba807def903\"><meta data-n-head=\"ssr\" name=\"google-site-verification\" content=\"1Xzj4wSdrqlorYybls1auuS_QH004opxKRrxvF7vAho\"><meta data-n-head=\"ssr\" data-hid=\"og:description\" property=\"og:description\" content=\"기술과 사람으로 더 나은 세상을 만듭니다\"><meta data-n-head=\"ssr\" data-hid=\"description\" name=\"description\" content=\"기술과 사람으로 더 나은 세상을 만듭니다\"><base href=\"/page/\"><link data-n-head=\"ssr\" rel=\"icon\" type=\"image/x-icon\" href=\"/page/favicon.ico\"><script data-n-head=\"ssr\" type=\"text/javascript\" src=\"//developers.kakao.com/sdk/js/kakao.min.js\"></script><script data-n-head=\"ssr\" type=\"text/javascript\" src=\"//t1.daumcdn.net/tiara/js/v1/tiara.min.js\"></script><link rel=\"preload\" href=\"/page/_nuxt/0ea2753.js\" as=\"script\"><link rel=\"preload\" href=\"/page/_nuxt/ba90d9e.js\" as=\"script\"><link rel=\"preload\" href=\"/page/_nuxt/css/7f2d63c.css\" as=\"style\"><link rel=\"preload\" href=\"/page/_nuxt/107d4d9.js\" as=\"script\"><link rel=\"preload\" href=\"/page/_nuxt/3b15d7c.js\" as=\"script\"><link rel=\"stylesheet\" href=\"/page/_nuxt/css/7f2d63c.css\"></head><body class=\"light mo  \" data-n-head=\"%7B%22class%22:%7B%22ssr%22:%5B%22light%22,%22mo%22,%22%22,%22%22%5D%7D%7D\"><noscript data-n-head=\"ssr\" data-pbody=\"true\">이 페이지를 실행하려면 자바스크립트를 사용해야 합니다.</noscript><div data-server-rendered=\"true\" id=\"__nuxt\"><div id=\"__layout\"><div data-v-681c0c75><div aria-hidden=\"true\" class=\"direct-link\" data-v-681c0c75><a href=\"#mainContent\" data-v-681c0c75>본문 바로가기</a> <a href=\"#gnbContent\" data-v-681c0c75>메뉴 바로가기</a></div> <div class=\"container-doc\" style=\"visibility:hidden;\" data-v-681c0c75><header class=\"doc-header head_type2\" data-v-242c9ccb data-v-681c0c75><div class=\"wrap_header\" data-v-242c9ccb><h1 class=\"doc-title\" data-v-242c9ccb><a href=\"/page\" data-v-242c9ccb><span class=\"screen_out\" data-v-242c9ccb>KaKao</span><!----></a></h1> <button type=\"button\" class=\"btn_hamburger\" data-v-242c9ccb><span class=\"screen_out\" data-v-242c9ccb>메인 메뉴 열기</span> <!----></button> <button type=\"button\" data-tiara-action-name=\"click_search_open\" class=\"btn_search\" data-v-242c9ccb><span class=\"screen_out\" data-v-242c9ccb>검색창 열기</span> <!----></button></div> <div aria-hidden=\"true\" class=\"area_gnb\" data-v-242c9ccb><div class=\"inner_gnb\" data-v-242c9ccb><strong class=\"gnb_logo\" data-v-242c9ccb><a href=\"/page\" data-v-242c9ccb><span class=\"screen_out\" data-v-242c9ccb>KaKao</span><!----></a></strong> <nav id=\"gnbContent\" class=\"doc-gnb\" data-v-242c9ccb><h2 class=\"screen_out\" data-v-242c9ccb>메인메뉴</h2> <ul class=\"list_gnb\" data-v-242c9ccb><li data-v-242c9ccb><a href=\"javascript;\" role=\"button\" aria-expanded=\"false\" data-v-242c9ccb><img src=\"data:image/gif;base64,R0lGODlhAQABAIAAAAAAAP///yH5BAEAAAAALAAAAAABAAEAAAIBRAA7\" alt=\"\" class=\"ico_menu\" data-v-a968263a data-v-242c9ccb> <span data-v-242c9ccb>소개</span></a> <ul role=\"list\" class=\"list_sub\" style=\"display:none;\" data-v-242c9ccb><li role=\"listitem\" data-v-242c9ccb><a href=\"/page/about/kakaoCulture\" data-v-242c9ccb>\n",
      "                      카카오 문화\n",
      "                    </a></li><li role=\"listitem\" data-v-242c9ccb><a href=\"/page/about/subsidiaryCompany\" data-v-242c9ccb>\n",
      "                      공동체\n",
      "                    </a></li><li role=\"listitem\" data-v-242c9ccb><a href=\"/page/about/milestones\" data-v-242c9ccb>\n",
      "                      연혁\n",
      "                    </a></li></ul></li><li data-v-242c9ccb><a href=\"javascript;\" role=\"button\" aria-expanded=\"false\" data-v-242c9ccb><img src=\"data:image/gif;base64,R0lGODlhAQABAIAAAAAAAP///yH5BAEAAAAALAAAAAABAAEAAAIBRAA7\" alt=\"\" class=\"ico_menu\" data-v-a968263a data-v-242c9ccb> <span data-v-242c9ccb>이야기</span></a> <ul role=\"list\" class=\"list_sub\" style=\"display:none;\" data-v-242c9ccb><li role=\"listitem\" data-v-242c9ccb><a href=\"/page/story/archives\" data-v-242c9ccb>\n",
      "                      콘텐츠 저장소\n",
      "                    </a></li><li role=\"listitem\" data-v-242c9ccb><a href=\"/page/story/history\" data-v-242c9ccb>\n",
      "                      뚝딱뚝딱 성장기\n",
      "                    </a></li><li role=\"listitem\" data-v-242c9ccb><a href=\"/page/story/bynumbers\" data-v-242c9ccb>\n",
      "                      숫자로 보는 카카오\n",
      "                    </a></li></ul></li><li data-v-242c9ccb><a href=\"/page/news\" class=\"link_direct\" data-v-242c9ccb><img src=\"data:image/gif;base64,R0lGODlhAQABAIAAAAAAAP///yH5BAEAAAAALAAAAAABAAEAAAIBRAA7\" alt=\"\" class=\"ico_menu\" data-v-a968263a data-v-242c9ccb> <span data-v-242c9ccb>뉴스</span></a> <!----></li><li data-v-242c9ccb><a href=\"javascript;\" role=\"button\" aria-expanded=\"false\" data-v-242c9ccb><img src=\"data:image/gif;base64,R0lGODlhAQABAIAAAAAAAP///yH5BAEAAAAALAAAAAABAAEAAAIBRAA7\" alt=\"\" class=\"ico_menu\" data-v-a968263a data-v-242c9ccb> <span data-v-242c9ccb>기술과 서비스</span></a> <ul role=\"list\" class=\"list_sub\" style=\"display:none;\" data-v-242c9ccb><li role=\"listitem\" data-v-242c9ccb><a href=\"/page/service/tech\" data-v-242c9ccb>\n",
      "                      기술\n",
      "                    </a></li><li role=\"listitem\" data-v-242c9ccb><a href=\"/page/service/service\" data-v-242c9ccb>\n",
      "                      서비스\n",
      "                    </a></li></ul></li><li data-v-242c9ccb><a href=\"javascript;\" role=\"button\" aria-expanded=\"false\" data-v-242c9ccb><img src=\"data:image/gif;base64,R0lGODlhAQABAIAAAAAAAP///yH5BAEAAAAALAAAAAABAAEAAAIBRAA7\" alt=\"\" class=\"ico_menu\" data-v-a968263a data-v-242c9ccb> <span data-v-242c9ccb>약속과 책임</span></a> <ul role=\"list\" class=\"list_sub\" style=\"display:none;\" data-v-242c9ccb><li role=\"listitem\" data-v-242c9ccb><a href=\"/page/responsible/promise\" data-v-242c9ccb>\n",
      "                      카카오의 다짐\n",
      "                    </a></li><li role=\"listitem\" data-v-242c9ccb><a href=\"/page/responsible/esg\" data-v-242c9ccb>\n",
      "                      ESG\n",
      "                    </a></li><li role=\"listitem\" data-v-242c9ccb><a href=\"/page/responsible/activegreen\" data-v-242c9ccb>\n",
      "                      액티브그린\n",
      "                    </a></li><li role=\"listitem\" data-v-242c9ccb><a href=\"/page/responsible/digital\" data-v-242c9ccb>\n",
      "                      디지털 권리\n",
      "                    </a></li><li role=\"listitem\" data-v-242c9ccb><a href=\"/page/responsible/aiEthics\" data-v-242c9ccb>\n",
      "                      AI 윤리\n",
      "                    </a></li></ul></li></ul></nav> <div class=\"group_relation\" data-v-242c9ccb><ul class=\"list_relation\" data-v-242c9ccb><li data-v-242c9ccb><a href=\"/ir/main\" target=\"_blank\" data-v-242c9ccb>투자정보</a></li><li data-v-242c9ccb><a href=\"https://careers.kakao.com/index\" target=\"_blank\" data-v-242c9ccb>인재영입</a></li><li data-v-242c9ccb><a href=\"javascript;\" role=\"button\" aria-expanded=\"false\" data-v-242c9ccb>\n",
      "                고객센터<!----></a> <ul class=\"list_subinfo\" data-v-242c9ccb><li data-v-242c9ccb><a href=\"https://cs.kakao.com/\" target=\"_blank\" data-v-242c9ccb><div role=\"text\" class=\"wrap_info\" data-v-242c9ccb><span data-v-242c9ccb>카카오 고객센터</span><!----></div></a></li><li data-v-242c9ccb><a href=\"https://cs.daum.net/\" target=\"_blank\" data-v-242c9ccb><div role=\"text\" class=\"wrap_info\" data-v-242c9ccb><span data-v-242c9ccb>Daum 고객센터</span><!----></div></a></li><li data-v-242c9ccb><a href=\"https://faqs2.melon.com/customer/index.htm\" target=\"_blank\" data-v-242c9ccb><div role=\"text\" class=\"wrap_info\" data-v-242c9ccb><span data-v-242c9ccb>멜론 고객센터</span><!----></div></a></li></ul></li></ul> <div class=\"wrap_util\" data-v-242c9ccb><button type=\"button\" data-tiara-action-name=\"click_darkmode\" class=\"btn_mode\" data-v-242c9ccb><span data-v-242c9ccb><span class=\"screen_out\" data-v-242c9ccb>다크모드로 변경하기</span> <!----></span></button> <button type=\"button\" data-tiara-action-name=\"click_language_en\" class=\"btn_language\" data-v-242c9ccb><span data-v-242c9ccb><span class=\"screen_out\" data-v-242c9ccb>영어로 보기</span> <!----></span></button></div></div> <button type=\"button\" class=\"btn_close\" style=\"display:none;\" data-v-242c9ccb><span class=\"screen_out\" data-v-242c9ccb>메인 메뉴 닫기</span> <!----></button></div></div></header> <main class=\"doc-main\" data-v-681c0c75><section id=\"mainContent\" class=\"inner-main\" data-v-681c0c75><h2 class=\"screen_out\">홈 본문</h2> <section class=\"content-feature\" style=\"display:none;\" data-v-9f06dbe6><div class=\"inner_path\" data-v-9f06dbe6><h3 class=\"screen_out\" data-v-9f06dbe6>현재 페이지 위치</h3> <div class=\"wrap_tit\" data-v-9f06dbe6><img src=\"data:image/gif;base64,R0lGODlhAQABAIAAAAAAAP///yH5BAEAAAAALAAAAAABAAEAAAIBRAA7\" alt=\"1일\" data-v-a968263a data-v-9f06dbe6> <strong class=\"tit_path\" data-v-9f06dbe6>카카오 소식</strong></div> <!----></div></section> <div class=\"main-content\"><article class=\"content-article\"><h3 role=\"text\" class=\"tit_main tit_home tit_date1\"><em class=\"emph_tit\">\n",
      "          8월 9일에 전하는\n",
      "        </em> <span class=\"txt_tit\">\n",
      "          카카오 소식입니다\n",
      "          <!----><span class=\"screen_out\">개의 업데이트된 소식</span></span></h3> <!----></article></div> <span class=\"dimmed_block\" data-v-448164c2></span></section></main> <footer class=\"doc-footer\" data-v-49e70738 data-v-681c0c75><div class=\"inner_footer\" data-v-49e70738><section class=\"section_service\" data-v-49e70738><h2 class=\"screen_out\" data-v-49e70738>하단 메뉴</h2> <div class=\"wrap_service\" data-v-49e70738><strong class=\"tit_service\" data-v-49e70738><a href=\"javascript;\" role=\"button\" aria-expanded=\"false\" data-v-49e70738>\n",
      "            소개<!----></a></strong> <ul role=\"list\" class=\"list_service\" data-v-49e70738><li role=\"listitem\" data-v-49e70738><a href=\"/page/about/kakaoCulture\" data-v-49e70738><span role=\"text\" data-v-49e70738>카카오 문화</span></a></li><li role=\"listitem\" data-v-49e70738><a href=\"/page/about/subsidiaryCompany\" data-v-49e70738><span role=\"text\" data-v-49e70738>공동체</span></a></li><li role=\"listitem\" data-v-49e70738><a href=\"/page/about/milestones\" data-v-49e70738><span role=\"text\" data-v-49e70738>연혁</span></a></li></ul></div><div class=\"wrap_service\" data-v-49e70738><strong class=\"tit_service\" data-v-49e70738><a href=\"javascript;\" role=\"button\" aria-expanded=\"false\" data-v-49e70738>\n",
      "            이야기<!----></a></strong> <ul role=\"list\" class=\"list_service\" data-v-49e70738><li role=\"listitem\" data-v-49e70738><a href=\"/page/story/archives\" data-v-49e70738><span role=\"text\" data-v-49e70738>콘텐츠 저장소</span></a></li><li role=\"listitem\" data-v-49e70738><a href=\"/page/story/history\" data-v-49e70738><span role=\"text\" data-v-49e70738>뚝딱뚝딱 성장기</span></a></li><li role=\"listitem\" data-v-49e70738><a href=\"/page/story/bynumbers\" data-v-49e70738><span role=\"text\" data-v-49e70738>숫자로 보는 카카오</span></a></li></ul></div><div class=\"wrap_service wrap_news\" data-v-49e70738><strong class=\"tit_service\" data-v-49e70738><a href=\"/page/news\" data-v-49e70738><span role=\"text\" data-v-49e70738>\n",
      "              뉴스<!----></span></a></strong> <!----></div><div class=\"wrap_service\" data-v-49e70738><strong class=\"tit_service\" data-v-49e70738><a href=\"javascript;\" role=\"button\" aria-expanded=\"false\" data-v-49e70738>\n",
      "            기술과 서비스<!----></a></strong> <ul role=\"list\" class=\"list_service\" data-v-49e70738><li role=\"listitem\" data-v-49e70738><a href=\"/page/service/tech\" data-v-49e70738><span role=\"text\" data-v-49e70738>기술</span></a></li><li role=\"listitem\" data-v-49e70738><a href=\"/page/service/service\" data-v-49e70738><span role=\"text\" data-v-49e70738>서비스</span></a></li></ul></div><div class=\"wrap_service\" data-v-49e70738><strong class=\"tit_service\" data-v-49e70738><a href=\"javascript;\" role=\"button\" aria-expanded=\"false\" data-v-49e70738>\n",
      "            약속과 책임<!----></a></strong> <ul role=\"list\" class=\"list_service\" data-v-49e70738><li role=\"listitem\" data-v-49e70738><a href=\"/page/responsible/promise\" data-v-49e70738><span role=\"text\" data-v-49e70738>카카오의 다짐</span></a></li><li role=\"listitem\" data-v-49e70738><a href=\"/page/responsible/esg\" data-v-49e70738><span role=\"text\" data-v-49e70738>ESG</span></a></li><li role=\"listitem\" data-v-49e70738><a href=\"/page/responsible/activegreen\" data-v-49e70738><span role=\"text\" data-v-49e70738>액티브그린</span></a></li><li role=\"listitem\" data-v-49e70738><a href=\"/page/responsible/digital\" data-v-49e70738><span role=\"text\" data-v-49e70738>디지털 권리</span></a></li><li role=\"listitem\" data-v-49e70738><a href=\"/page/responsible/aiEthics\" data-v-49e70738><span role=\"text\" data-v-49e70738>AI 윤리</span></a></li></ul></div> <div class=\"wrap_service\" data-v-49e70738><strong class=\"tit_service\" data-v-49e70738><a href=\"javascript;\" role=\"button\" aria-expanded=\"false\" data-v-49e70738>\n",
      "            투자정보<!----></a></strong> <ul role=\"list\" class=\"list_service\" data-v-49e70738><li role=\"listitem\" data-v-49e70738><a href=\"/ir/managementInformation/shareholderComposition\" target=\"_blank\" data-tiara-layer=\"M_IR01\" data-tiara-action-name=\"M_IR01\" data-v-49e70738><span role=\"text\" data-v-49e70738>기업지배구조</span></a></li><li role=\"listitem\" data-v-49e70738><a href=\"/ir/stockInformation\" target=\"_blank\" data-tiara-layer=\"M_IR02\" data-tiara-action-name=\"M_IR02\" data-v-49e70738><span role=\"text\" data-v-49e70738>주가정보</span></a></li><li role=\"listitem\" data-v-49e70738><a href=\"/ir/financialInformation/consolidatedFinancialStatements\" target=\"_blank\" data-tiara-layer=\"M_IR03\" data-tiara-action-name=\"M_IR03\" data-v-49e70738><span role=\"text\" data-v-49e70738>재무정보</span></a></li><li role=\"listitem\" data-v-49e70738><a href=\"/ir/referenceRoom/earningsAnnouncement\" target=\"_blank\" data-tiara-layer=\"M_IR04\" data-tiara-action-name=\"M_IR04\" data-v-49e70738><span role=\"text\" data-v-49e70738>IR행사</span></a></li><li role=\"listitem\" data-v-49e70738><a href=\"/ir/disclosureInformation\" target=\"_blank\" data-tiara-layer=\"M_IR05\" data-tiara-action-name=\"M_IR05\" data-v-49e70738><span role=\"text\" data-v-49e70738>공시정보</span></a></li><li role=\"listitem\" data-v-49e70738><a href=\"/ir/noticeList\" target=\"_blank\" data-tiara-layer=\"M_IR06\" data-tiara-action-name=\"M_IR06\" data-v-49e70738><span role=\"text\" data-v-49e70738>공고</span></a></li></ul></div> <div class=\"group_service\" data-v-49e70738><div class=\"wrap_service\" data-v-49e70738><strong class=\"tit_service\" data-v-49e70738><a href=\"javascript;\" role=\"button\" aria-expanded=\"false\" data-tiara-layer=\"M_Daum_Customer\" data-tiara-action-name=\"M_Daum_Customer\" data-v-49e70738>\n",
      "              고객센터<!----></a></strong> <ul role=\"list\" class=\"list_service\" data-v-49e70738><li role=\"listitem\" data-v-49e70738><a href=\"https://cs.kakao.com/\" target=\"_blank\" data-tiara-layer=\"M_Customer\" data-tiara-action-name=\"M_Customer\" data-v-49e70738><span role=\"text\" data-v-49e70738><!---->\n",
      "                  카카오 고객센터<span class=\"screen_out\" data-v-49e70738>사이트 바로가기</span><!----></span></a></li><li role=\"listitem\" data-v-49e70738><a href=\"https://cs.daum.net/\" target=\"_blank\" data-tiara-layer=\"M_Daum_Customer\" data-tiara-action-name=\"M_Daum_Customer\" data-v-49e70738><span role=\"text\" data-v-49e70738><!---->\n",
      "                  Daum 고객센터<span class=\"screen_out\" data-v-49e70738>사이트 바로가기</span><!----></span></a></li></ul></div> <strong class=\"tit_service\" data-v-49e70738><a href=\"https://careers.kakao.com/index\" target=\"_blank\" data-tiara-layer=\"M_Career\" data-tiara-action-name=\"M_Career\" data-v-49e70738><span role=\"text\" data-v-49e70738><!---->\n",
      "              인재영입<span class=\"screen_out\" data-v-49e70738>사이트 바로가기</span><!----></span></a></strong> <strong class=\"tit_service\" data-v-49e70738><a href=\"https://accounts.kakao.com\" target=\"_blank\" data-v-49e70738><span role=\"text\" data-v-49e70738><!---->\n",
      "              카카오계정<span class=\"screen_out\" data-v-49e70738>사이트 바로가기</span><!----></span></a></strong></div></section> <section class=\"section_relation\" data-v-49e70738><h2 class=\"screen_out\" data-v-49e70738>서비스 이용정보</h2> <div class=\"group_info\" data-v-49e70738><div class=\"wrap_info\" data-v-49e70738><a href=\"javascript;\" role=\"button\" aria-expanded=\"false\" class=\"link_info\" data-v-49e70738>\n",
      "              이용약관<!----></a> <ul class=\"list_subinfo\" data-v-49e70738><li data-v-49e70738><a href=\"https://www.kakao.com/policy/terms?type=a&amp;amp;lang=ko\" target=\"_blank\" data-tiara-action-name=\"click_footer_01_1\" data-v-49e70738><span role=\"text\" data-v-49e70738>\n",
      "                    카카오계정 서비스<span class=\"screen_out\" data-v-49e70738>사이트 바로가기</span><!----></span></a></li><li data-v-49e70738><a href=\"https://www.kakao.com/policy/terms?type=ts&amp;amp;lang=ko\" target=\"_blank\" data-tiara-action-name=\"click_footer_01_2\" data-v-49e70738><span role=\"text\" data-v-49e70738>\n",
      "                    카카오 서비스<span class=\"screen_out\" data-v-49e70738>사이트 바로가기</span><!----></span></a></li><li data-v-49e70738><a href=\"http://policy.daum.net/info/info\" target=\"_blank\" data-tiara-action-name=\"click_footer_01_3\" data-v-49e70738><span role=\"text\" data-v-49e70738>\n",
      "                    Daum 서비스<span class=\"screen_out\" data-v-49e70738>사이트 바로가기</span><!----></span></a></li></ul></div><div class=\"wrap_info\" data-v-49e70738><a href=\"javascript;\" role=\"button\" aria-expanded=\"false\" class=\"link_info link_emph\" data-v-49e70738>\n",
      "              위치정보 이용약관<!----></a> <ul class=\"list_subinfo\" data-v-49e70738><li data-v-49e70738><a href=\"https://www.kakao.com/policy/location?lang=ko\" target=\"_blank\" data-tiara-action-name=\"click_footer_02_1\" data-v-49e70738><span role=\"text\" data-v-49e70738>\n",
      "                    카카오 서비스<span class=\"screen_out\" data-v-49e70738>사이트 바로가기</span><!----></span></a></li><li data-v-49e70738><a href=\"http://policy.daum.net/mobile_info/mobile_info\" target=\"_blank\" data-tiara-action-name=\"click_footer_02_2\" data-v-49e70738><span role=\"text\" data-v-49e70738>\n",
      "                    Daum 서비스<span class=\"screen_out\" data-v-49e70738>사이트 바로가기</span><!----></span></a></li></ul></div><div class=\"wrap_info\" data-v-49e70738><a href=\"javascript;\" role=\"button\" aria-expanded=\"false\" class=\"link_info link_emph\" data-v-49e70738>\n",
      "              개인정보처리방침<!----></a> <ul class=\"list_subinfo\" data-v-49e70738><li data-v-49e70738><a href=\"https://www.kakaocorp.com/policy/privacyPolicy/corporateSitePrivacyPolicy\" target=\"_blank\" data-tiara-action-name=\"click_footer_03_1\" data-v-49e70738><span role=\"text\" data-v-49e70738>\n",
      "                    기업사이트<span class=\"screen_out\" data-v-49e70738>사이트 바로가기</span><!----></span></a></li><li data-v-49e70738><a href=\"https://www.kakao.com/policy/privacy?lang=ko\" target=\"_blank\" data-tiara-action-name=\"click_footer_03_2\" data-v-49e70738><span role=\"text\" data-v-49e70738>\n",
      "                    카카오 서비스<span class=\"screen_out\" data-v-49e70738>사이트 바로가기</span><!----></span></a></li></ul></div><div class=\"wrap_info\" data-v-49e70738><a href=\"https://www.kakao.com/policy/oppolicy?lang=ko\" target=\"_blank\" data-tiara-action-name=\"click_footer_04\" class=\"link_info\" data-v-49e70738><span role=\"text\" data-v-49e70738>운영정책</span></a> <!----></div><div class=\"wrap_info\" data-v-49e70738><a href=\"javascript;\" role=\"button\" aria-expanded=\"false\" class=\"link_info\" data-v-49e70738>\n",
      "              청소년보호정책<!----></a> <ul class=\"list_subinfo\" data-v-49e70738><li data-v-49e70738><a href=\"https://www.kakao.com/policy/safeguard?lang=ko\" target=\"_blank\" data-tiara-action-name=\"click_footer_05_1\" data-v-49e70738><span role=\"text\" data-v-49e70738>\n",
      "                    카카오 서비스<span class=\"screen_out\" data-v-49e70738>사이트 바로가기</span><!----></span></a></li><li data-v-49e70738><a href=\"http://policy.daum.net/youthpolicy/youthpolicy\" target=\"_blank\" data-tiara-action-name=\"click_footer_05_2\" data-v-49e70738><span role=\"text\" data-v-49e70738>\n",
      "                    Daum 서비스<span class=\"screen_out\" data-v-49e70738>사이트 바로가기</span><!----></span></a></li></ul></div><div class=\"wrap_info\" data-v-49e70738><a href=\"https://kakao.com/policy/brand/trademark?lang=ko\" target=\"_blank\" data-tiara-action-name=\"click_footer_06\" class=\"link_info\" data-v-49e70738><span role=\"text\" data-v-49e70738>브랜드보호정책</span></a> <!----></div><div class=\"wrap_info\" data-v-49e70738><a href=\"https://www.kakao.com/policy/right?lang=ko\" target=\"_blank\" data-tiara-action-name=\"click_footer_07\" class=\"link_info\" data-v-49e70738><span role=\"text\" data-v-49e70738>권리침해신고안내</span></a> <!----></div><div class=\"wrap_info\" data-v-49e70738><a href=\"javascript;\" role=\"button\" aria-expanded=\"false\" class=\"link_info\" data-v-49e70738>\n",
      "              공지사항<!----></a> <ul class=\"list_subinfo\" data-v-49e70738><li data-v-49e70738><a href=\"https://www.kakaocorp.com/policy/notice/kakaocorp/list\" target=\"_blank\" data-tiara-action-name=\"click_footer_08_1\" data-v-49e70738><span role=\"text\" data-v-49e70738>\n",
      "                    투자정보 공지<span class=\"screen_out\" data-v-49e70738>사이트 바로가기</span><!----></span></a></li><li data-v-49e70738><a href=\"https://www.kakao.com/notices?lang=ko\" target=\"_blank\" data-tiara-action-name=\"click_footer_08_2\" data-v-49e70738><span role=\"text\" data-v-49e70738>\n",
      "                    카카오 서비스<span class=\"screen_out\" data-v-49e70738>사이트 바로가기</span><!----></span></a></li><li data-v-49e70738><a href=\"https://m.daum.net/channel/new/notice\" target=\"_blank\" data-tiara-action-name=\"click_footer_08_3\" data-v-49e70738><span role=\"text\" data-v-49e70738>\n",
      "                    Daum 서비스<span class=\"screen_out\" data-v-49e70738>사이트 바로가기</span><!----></span></a></li></ul></div><div class=\"wrap_info\" data-v-49e70738><a href=\"https://www.kakaocorp.com/policy/cyberEthics/info\" target=\"_blank\" data-tiara-action-name=\"click_footer_09\" class=\"link_info\" data-v-49e70738><span role=\"text\" data-v-49e70738>사이버윤리실</span></a> <!----></div><div class=\"wrap_info\" data-v-49e70738><a href=\"https://www.kakaocorp.com/ir/wayToCome\" target=\"_blank\" data-tiara-action-name=\"click_footer_010\" class=\"link_info\" data-v-49e70738><span role=\"text\" data-v-49e70738>Contact Us</span></a> <!----></div></div> <div class=\"wrap_relation\" data-v-49e70738><strong class=\"tit_relation\" data-v-49e70738><a href=\"javascript;\" role=\"button\" aria-expanded=\"false\" data-v-49e70738>\n",
      "            관련사이트<!----></a></strong> <ul class=\"list_subinfo\" data-v-49e70738><li data-v-49e70738><a href=\"https://kakao.ai/\" target=\"_blank\" data-v-49e70738><span role=\"text\" data-v-49e70738><!---->\n",
      "                  카카오 AI<span class=\"screen_out\" data-v-49e70738>사이트 바로가기</span><!----></span></a></li><li data-v-49e70738><a href=\"https://privacy.kakao.com/main?lang=ko\" target=\"_blank\" data-v-49e70738><span role=\"text\" data-v-49e70738><!---->\n",
      "                  카카오 프라이버시<span class=\"screen_out\" data-v-49e70738>사이트 바로가기</span><!----></span></a></li><li data-v-49e70738><a href=\"https://developers.kakao.com/\" target=\"_blank\" data-v-49e70738><span role=\"text\" data-v-49e70738><!---->\n",
      "                  카카오 디벨로퍼스<span class=\"screen_out\" data-v-49e70738>사이트 바로가기</span><!----></span></a></li><li data-v-49e70738><a href=\"https://www.daum.net/\" target=\"_blank\" data-v-49e70738><span role=\"text\" data-v-49e70738><!---->\n",
      "                  다음 포털 사이트<span class=\"screen_out\" data-v-49e70738>사이트 바로가기</span><!----></span></a></li><li data-v-49e70738><a href=\"https://winwin.kakao.com/index\" target=\"_blank\" data-v-49e70738><span role=\"text\" data-v-49e70738><!---->\n",
      "                  동반 성장 사이트<span class=\"screen_out\" data-v-49e70738>사이트 바로가기</span><!----></span></a></li><li data-v-49e70738><a href=\"https://jeju.kakao.com/\" target=\"_blank\" data-v-49e70738><span role=\"text\" data-v-49e70738><!---->\n",
      "                  제주 with kakao<span class=\"screen_out\" data-v-49e70738>사이트 바로가기</span><!----></span></a></li></ul></div> <small class=\"txt_copyright\" data-v-49e70738>\n",
      "        © <a href=\"https://www.kakaocorp.com/page\" data-v-49e70738>Kakao Corp.</a> All\n",
      "        rights reserved.\n",
      "      </small></section></div></footer> <!----> <!----></div></div></div></div><script>window.__NUXT__=(function(a,b,c,d){return {layout:\"default\",data:[{}],fetch:{},error:b,state:{isDesktop:a,windowWidth:c,isDarkMode:a,isEnglish:a,isSearchLayerShow:a,isSearchLoading:a,searchKeyword:d,searchData:{},isDetailLayerShow:a,layerData:{},recommendKeywordList:[],categoryData:{},isNavigationShow:a,serviceDetailPcActiveIdx:c,newsCurrentNum:b,newsCurrentTab:d,fromNewsDetail:a},serverRendered:true,routePath:\"\\u002F\",config:{_app:{basePath:\"\\u002Fpage\\u002F\",assetsPath:\"\\u002Fpage\\u002F_nuxt\\u002F\",cdnURL:b}}}}(false,null,0,\"\"));</script><script src=\"/page/_nuxt/0ea2753.js\" defer></script><script src=\"/page/_nuxt/ba90d9e.js\" defer></script><script src=\"/page/_nuxt/107d4d9.js\" defer></script><script src=\"/page/_nuxt/3b15d7c.js\" defer></script><script data-n-head=\"ssr\" type=\"application/ld+json\" data-body=\"true\">\n",
      "        {\n",
      "          \"@context\": \"http://schema.org\",\n",
      "          \"@type\": \"Organization\",\n",
      "          \"name\": \"Kakao Corp\",\n",
      "          \"url\": \"https://www.kakaocorp.com\",\n",
      "          \"sameAs\": [\n",
      "            \"https://www.facebook.com/kakao.brandmedia\",\n",
      "            \"https://www.instagram.com/kakao.today\",\n",
      "            \"https://www.youtube.com/c/Kakaobrandmedia\"\n",
      "          ]\n",
      "        }\n",
      "      </script></body></html>\n"
     ]
    }
   ],
   "source": [
    "import urllib.request\n",
    "from urllib.error import HTTPError\n",
    "\n",
    "try:\n",
    "    response = urllib.request.urlopen('http://www.kakao.com')\n",
    "except HTTPError as e:\n",
    "    if e.code == 308:\n",
    "        redirect_url = e.headers.get('Location')\n",
    "        if redirect_url:\n",
    "            response = urllib.request.urlopen(redirect_url)\n",
    "        else:\n",
    "            print(\"Redirection URL not found.\")\n",
    "            exit(1)\n",
    "    else:\n",
    "        print(\"Error:\", e)\n",
    "        exit(1)\n",
    "\n",
    "data = response.read()\n",
    "encoding = response.info().get_content_charset()\n",
    "html = data.decode(encoding)\n",
    "print(html)\n"
   ]
  },
  {
   "cell_type": "code",
   "execution_count": null,
   "metadata": {},
   "outputs": [],
   "source": [
    "#URL에 한글이 포함된 경우\n",
    "import urllib.request\n",
    "from urllib.parse import quote\n",
    "keyword = quote(\"사이버가수아담\")\n",
    "response = urllib.request.urlopen(\"https://search.hani.co.kr/search?command=query&media=common\n",
    "&searchword=\" + keyword + \"&x=0&y=0&_ga=2.225940573.611667888.1689238630-\n",
    "1387075702.1689238630\")\n",
    "data = response.read()\n",
    "#읽어온 데이터의 인코딩 설정\n",
    "encoding = response.info().get_content_charset()\n",
    "html = data.decode(encoding)\n",
    "#화면 출력\n",
    "print(html)"
   ]
  },
  {
   "cell_type": "code",
   "execution_count": 4,
   "metadata": {},
   "outputs": [
    {
     "name": "stdout",
     "output_type": "stream",
     "text": [
      "{\n",
      "  \"args\": {}, \n",
      "  \"headers\": {\n",
      "    \"Accept\": \"*/*\", \n",
      "    \"Accept-Encoding\": \"gzip, deflate, br\", \n",
      "    \"Host\": \"httpbin.org\", \n",
      "    \"User-Agent\": \"python-requests/2.28.1\", \n",
      "    \"X-Amzn-Trace-Id\": \"Root=1-64d2f01b-11410e46164d92ac64bcc937\"\n",
      "  }, \n",
      "  \"origin\": \"1.220.201.108\", \n",
      "  \"url\": \"http://httpbin.org/get\"\n",
      "}\n",
      "\n"
     ]
    }
   ],
   "source": [
    "import requests\n",
    "\n",
    "response = requests.get('http://httpbin.org/get')\n",
    "print(response.text )"
   ]
  },
  {
   "cell_type": "code",
   "execution_count": null,
   "metadata": {},
   "outputs": [],
   "source": [
    "# 전송할 파라미터 만들기\n",
    "dic = {\"id\":\"havi\",\"name\":\"승현\"}\n",
    "\n",
    "# 요청을 하고 응답 받기.\n",
    "response = requests.post(\"http://httpbin.org/post\",data=dic)\n",
    "print(response.text)\n",
    "\n",
    "resp = resquests.put('http://httpbin.org/put')\n",
    "print(resp)"
   ]
  },
  {
   "cell_type": "code",
   "execution_count": null,
   "metadata": {},
   "outputs": [],
   "source": [
    "res = requests.get('http://www.python.org/')\n",
    "\n",
    "if(res.status_code == requests.codes.ok):\n",
    "    html = res.text\n",
    "    print(html)"
   ]
  },
  {
   "cell_type": "code",
   "execution_count": 11,
   "metadata": {},
   "outputs": [
    {
     "name": "stdout",
     "output_type": "stream",
     "text": [
      "남시약국                          \t서울 중구 남대문로3가 30-15            \n",
      "평화약국                          \t서울 중구 남대문로4가 18-11            \n",
      "수도약국                          \t서울 종로구 관훈동 37                 \n",
      "종로약국                          \t서울 종로구 종로4가 8                 \n",
      "서울중앙약국                        \t서울 용산구 동자동 43-205             \n",
      "서울왕약국                         \t서울 중구 남창동 2-3                 \n",
      "왕솔약국                          \t서울 중구 회현동1가 202-1             \n",
      "우정약국                          \t서울 종로구 종로4가 176-1             \n",
      "삼원온누리약국                       \t서울 종로구 신문로1가 1                \n",
      "새원약국                          \t서울 중구 명동1가 33                 \n",
      "종오약국                          \t서울 종로구 종로4가 7                 \n",
      "남대문약국                         \t서울 중구 남대문로3가 30-7             \n",
      "종각호약국                         \t서울 종로구 종로2가 75-6              \n",
      "푸른온누리약국                       \t서울 종로구 평동 180                 \n",
      "서대문권약국                        \t서울 종로구 평동 169                 \n"
     ]
    }
   ],
   "source": [
    "import requests\n",
    "import json\n",
    "url = 'https://dapi.kakao.com/v2/local/search/category.json?category_group_code=PM9&rect=126.95,37.55,127.0,37.60'\n",
    "headers = {'Authorization': 'KakaoAK {}'.format('c454c0e64688ce2bde2dfff9cceced87')}\n",
    "data = requests.post(url, headers=headers)\n",
    "result = json.loads(data.text) #파싱한 결과\n",
    "#print(result)\n",
    "documents = result['documents']\n",
    "for data in documents:\n",
    "    print(format(data['place_name'], '30s'), end='\\t')\n",
    "    print(format(data['address_name'], '30s'))"
   ]
  },
  {
   "cell_type": "code",
   "execution_count": null,
   "metadata": {},
   "outputs": [],
   "source": [
    "from selenium import webdriver\n",
    "from selenium.webdriver.chrome.service import Service\n",
    "from selenium.webdriver.common.by import By\n",
    "import time\n",
    "from time import sleep\n",
    "from bs4 import BeautifulSoup\n",
    "import requests\n",
    "import re\n",
    "import os\n",
    "\n",
    "# Dataframe\n",
    "import pandas as pd\n",
    "df = pd.DataFrame(columns=['idx','star','review'])\n",
    "\n",
    "# 2023.08.02 셀레니움 라이브러리 수정사항 반영\n",
    "# https://stackoverflow.com/questions/76428561/typeerror-webdriver-init-got-multiple-values-for-argument-options\n",
    "service = Service(executable_path=r'/usr/bin/chromedriver')\n",
    "options = webdriver.ChromeOptions()\n",
    "options.add_argument('--headless')\n",
    "options.add_argument('--no-sandbox')\n",
    "driver = webdriver.Chrome(service=service, options=options)"
   ]
  },
  {
   "cell_type": "code",
   "execution_count": null,
   "metadata": {},
   "outputs": [],
   "source": [
    "from selenium import webdriver\n",
    "from selenium.webdriver.chrome.service import Service\n",
    "from webdriver_manager.chrome import ChromeDriverManager\n",
    "\n",
    "chrome_options = webdriver.ChromeOptions()\n",
    "driver = webdriver.Chrome(service=Service(ChromeDriverManager().install()), options=chrome_options)\n",
    "\n",
    "driver.get('https://www.google.com')\n",
    "\n"
   ]
  },
  {
   "cell_type": "code",
   "execution_count": 21,
   "metadata": {},
   "outputs": [
    {
     "name": "stdout",
     "output_type": "stream",
     "text": [
      "3.141.0\n"
     ]
    }
   ],
   "source": [
    "import selenium\n",
    "print(selenium.__version__)"
   ]
  },
  {
   "cell_type": "code",
   "execution_count": 5,
   "metadata": {},
   "outputs": [
    {
     "name": "stderr",
     "output_type": "stream",
     "text": [
      "WARNING:root:Can not find chromedriver for currently installed chrome version.\n"
     ]
    },
    {
     "ename": "NameError",
     "evalue": "name 'webdriver' is not defined",
     "output_type": "error",
     "traceback": [
      "\u001b[0;31m---------------------------------------------------------------------------\u001b[0m",
      "\u001b[0;31mNameError\u001b[0m                                 Traceback (most recent call last)",
      "\u001b[0;32m<ipython-input-5-6ab3c4e12a3f>\u001b[0m in \u001b[0;36m<module>\u001b[0;34m\u001b[0m\n\u001b[1;32m      6\u001b[0m \u001b[0;34m\u001b[0m\u001b[0m\n\u001b[1;32m      7\u001b[0m \u001b[0mchromedriver_autoinstaller\u001b[0m\u001b[0;34m.\u001b[0m\u001b[0minstall\u001b[0m\u001b[0;34m(\u001b[0m\u001b[0;34m)\u001b[0m\u001b[0;34m\u001b[0m\u001b[0;34m\u001b[0m\u001b[0m\n\u001b[0;32m----> 8\u001b[0;31m \u001b[0mdriver\u001b[0m \u001b[0;34m=\u001b[0m \u001b[0mwebdriver\u001b[0m\u001b[0;34m.\u001b[0m\u001b[0mChrome\u001b[0m\u001b[0;34m(\u001b[0m\u001b[0mservice\u001b[0m\u001b[0;34m=\u001b[0m\u001b[0mService\u001b[0m\u001b[0;34m(\u001b[0m\u001b[0mChromeDriverManager\u001b[0m\u001b[0;34m(\u001b[0m\u001b[0;34m)\u001b[0m\u001b[0;34m.\u001b[0m\u001b[0minstall\u001b[0m\u001b[0;34m(\u001b[0m\u001b[0;34m)\u001b[0m\u001b[0;34m)\u001b[0m\u001b[0;34m)\u001b[0m\u001b[0;34m\u001b[0m\u001b[0;34m\u001b[0m\u001b[0m\n\u001b[0m\u001b[1;32m      9\u001b[0m \u001b[0murl\u001b[0m \u001b[0;34m=\u001b[0m\u001b[0;34m'https://www.naver.com/'\u001b[0m\u001b[0;34m\u001b[0m\u001b[0;34m\u001b[0m\u001b[0m\n\u001b[1;32m     10\u001b[0m \u001b[0mdriver\u001b[0m\u001b[0;34m.\u001b[0m\u001b[0mget\u001b[0m\u001b[0;34m(\u001b[0m\u001b[0murl\u001b[0m\u001b[0;34m)\u001b[0m\u001b[0;34m\u001b[0m\u001b[0;34m\u001b[0m\u001b[0m\n",
      "\u001b[0;31mNameError\u001b[0m: name 'webdriver' is not defined"
     ]
    }
   ],
   "source": [
    "import selenium\n",
    "import chromedriver_autoinstaller\n",
    "\n",
    "from selenium.webdriver.chrome.service import Service\n",
    "from webdriver_manager.chrome import ChromeDriverManager\t# 설치필요\n",
    "\n",
    "chromedriver_autoinstaller.install()\n",
    "driver = webdriver.Chrome(service=Service(ChromeDriverManager().install()))\n",
    "url ='https://www.naver.com/'\n",
    "driver.get(url)"
   ]
  },
  {
   "cell_type": "code",
   "execution_count": 4,
   "metadata": {},
   "outputs": [
    {
     "name": "stderr",
     "output_type": "stream",
     "text": [
      "WARNING:root:Can not find chromedriver for currently installed chrome version.\n"
     ]
    },
    {
     "ename": "NameError",
     "evalue": "name 'webdriver' is not defined",
     "output_type": "error",
     "traceback": [
      "\u001b[0;31m---------------------------------------------------------------------------\u001b[0m",
      "\u001b[0;31mNameError\u001b[0m                                 Traceback (most recent call last)",
      "\u001b[0;32m<ipython-input-4-321372d5daa5>\u001b[0m in \u001b[0;36m<module>\u001b[0;34m\u001b[0m\n\u001b[1;32m      6\u001b[0m \u001b[0;34m\u001b[0m\u001b[0m\n\u001b[1;32m      7\u001b[0m \u001b[0;31m# 크롬 드라이버 인스턴스 생성\u001b[0m\u001b[0;34m\u001b[0m\u001b[0;34m\u001b[0m\u001b[0m\n\u001b[0;32m----> 8\u001b[0;31m \u001b[0mchrome\u001b[0m \u001b[0;34m=\u001b[0m \u001b[0mwebdriver\u001b[0m\u001b[0;34m.\u001b[0m\u001b[0mChrome\u001b[0m\u001b[0;34m(\u001b[0m\u001b[0mchromedriver_filepath\u001b[0m\u001b[0;34m,\u001b[0m \u001b[0mchrome_options\u001b[0m\u001b[0;34m=\u001b[0m\u001b[0moptions\u001b[0m\u001b[0;34m)\u001b[0m\u001b[0;34m\u001b[0m\u001b[0;34m\u001b[0m\u001b[0m\n\u001b[0m\u001b[1;32m      9\u001b[0m \u001b[0murl\u001b[0m \u001b[0;34m=\u001b[0m\u001b[0;34m'https://www.naver.com/'\u001b[0m\u001b[0;34m\u001b[0m\u001b[0;34m\u001b[0m\u001b[0m\n\u001b[1;32m     10\u001b[0m \u001b[0;34m\u001b[0m\u001b[0m\n",
      "\u001b[0;31mNameError\u001b[0m: name 'webdriver' is not defined"
     ]
    }
   ],
   "source": [
    "import chromedriver_autoinstaller\n",
    "from selenium.webdriver.chrome.service import Service\n",
    "from webdriver_manager.chrome import ChromeDriverManager\t# 설치필요\n",
    "# 크롬 드라이버 다운로드. 이미 동일 버전이 존재한다면 다운로드 SKIP\n",
    "chromedriver_filepath = chromedriver_autoinstaller.install()\n",
    "\n",
    "# 크롬 드라이버 인스턴스 생성\n",
    "chrome = webdriver.Chrome(chromedriver_filepath, chrome_options=options)\n",
    "url ='https://www.naver.com/'\n",
    "\n",
    "chrome.get(url)"
   ]
  },
  {
   "cell_type": "code",
   "execution_count": null,
   "metadata": {},
   "outputs": [],
   "source": [
    "path = \"C:/Users/SAMSUNG/Desktop/세종대학교/4학년 1학기/chromedriver.exe\"\n",
    "driver = webdriver.Chrome(path)\n",
    "\n",
    "driver.get('https://www.instagram.com')\n",
    "time.sleep(4)"
   ]
  },
  {
   "cell_type": "code",
   "execution_count": null,
   "metadata": {},
   "outputs": [],
   "source": [
    "from selenium import webdriver\n",
    "import os\n",
    "\n",
    "os.environ['webdriver.chrome.driver'] = r'/Users/iseunghyeon/Downloads/chromedriver.exe'\n",
    "driver = webdriver.Chrome()\n",
    "\n",
    "driver.get('https://www.instagram.com')\n"
   ]
  },
  {
   "cell_type": "code",
   "execution_count": 4,
   "metadata": {},
   "outputs": [
    {
     "ename": "TypeError",
     "evalue": "__init__() got an unexpected keyword argument 'service'",
     "output_type": "error",
     "traceback": [
      "\u001b[0;31m---------------------------------------------------------------------------\u001b[0m",
      "\u001b[0;31mTypeError\u001b[0m                                 Traceback (most recent call last)",
      "\u001b[0;32m<ipython-input-4-0ee66625a89f>\u001b[0m in \u001b[0;36m<module>\u001b[0;34m\u001b[0m\n\u001b[1;32m      7\u001b[0m \u001b[0;34m\u001b[0m\u001b[0m\n\u001b[1;32m      8\u001b[0m \u001b[0mchrome_options\u001b[0m \u001b[0;34m=\u001b[0m \u001b[0mOptions\u001b[0m\u001b[0;34m(\u001b[0m\u001b[0;34m)\u001b[0m\u001b[0;34m\u001b[0m\u001b[0;34m\u001b[0m\u001b[0m\n\u001b[0;32m----> 9\u001b[0;31m \u001b[0mdriver\u001b[0m \u001b[0;34m=\u001b[0m \u001b[0mwebdriver\u001b[0m\u001b[0;34m.\u001b[0m\u001b[0mChrome\u001b[0m\u001b[0;34m(\u001b[0m\u001b[0mservice\u001b[0m\u001b[0;34m=\u001b[0m\u001b[0mService\u001b[0m\u001b[0;34m(\u001b[0m\u001b[0mChromeDriverManager\u001b[0m\u001b[0;34m(\u001b[0m\u001b[0;34m)\u001b[0m\u001b[0;34m.\u001b[0m\u001b[0minstall\u001b[0m\u001b[0;34m(\u001b[0m\u001b[0;34m)\u001b[0m\u001b[0;34m)\u001b[0m\u001b[0;34m,\u001b[0m\u001b[0moptions\u001b[0m\u001b[0;34m=\u001b[0m \u001b[0mchrome_options\u001b[0m\u001b[0;34m)\u001b[0m\u001b[0;34m\u001b[0m\u001b[0;34m\u001b[0m\u001b[0m\n\u001b[0m\u001b[1;32m     10\u001b[0m \u001b[0mdriver\u001b[0m\u001b[0;34m.\u001b[0m\u001b[0mget\u001b[0m\u001b[0;34m(\u001b[0m\u001b[0;34m'www.naver.com'\u001b[0m\u001b[0;34m)\u001b[0m\u001b[0;34m\u001b[0m\u001b[0;34m\u001b[0m\u001b[0m\n\u001b[1;32m     11\u001b[0m \u001b[0;31m# driver.get('https://www.mangoplate.com/search/%EB%A7%88%ED%8F%AC%EA%B5%AC?keyword=%EB%A7%88%ED%8F%AC%EA%B5%AC&page=1')\u001b[0m\u001b[0;34m\u001b[0m\u001b[0;34m\u001b[0m\u001b[0m\n",
      "\u001b[0;31mTypeError\u001b[0m: __init__() got an unexpected keyword argument 'service'"
     ]
    }
   ],
   "source": [
    "from selenium.webdriver.chrome.options import Options\n",
    "\n",
    "from webdriver_manager.chrome import ChromeDriverManager\n",
    "from selenium import webdriver\n",
    "from selenium.webdriver.chrome.service import Service\n",
    "from selenium.webdriver.common.by import By\n",
    "\n",
    "chrome_options = Options()\n",
    "driver = webdriver.Chrome(service=Service(ChromeDriverManager().install()),options= chrome_options)\n",
    "driver.get('www.naver.com')\n",
    "# driver.get('https://www.mangoplate.com/search/%EB%A7%88%ED%8F%AC%EA%B5%AC?keyword=%EB%A7%88%ED%8F%AC%EA%B5%AC&page=1')\n",
    "\n",
    "\n",
    "# element = driver.find_element(By.XPATH,'/html/body/main/article/div[2]/div/div/section/div[3]/ul/li[2]/div[1]')\n",
    "\n"
   ]
  },
  {
   "cell_type": "code",
   "execution_count": 6,
   "metadata": {},
   "outputs": [],
   "source": [
    "from selenium import webdriver\n",
    "from webdriver_manager.chrome import ChromeDriverManager\n",
    "\n",
    "chrome_options = webdriver.ChromeOptions()\n",
    "# 필요한 경우 옵션을 여기에서 사용자 지정할 수 있습니다\n",
    "\n",
    "driver = webdriver.Chrome(ChromeDriverManager().install(), options=chrome_options)\n",
    "driver.get('https://www.naver.com')\n"
   ]
  },
  {
   "cell_type": "code",
   "execution_count": 2,
   "metadata": {},
   "outputs": [
    {
     "name": "stdout",
     "output_type": "stream",
     "text": [
      "Name: selenium\n",
      "Version: 3.141.0\n",
      "Summary: Python bindings for Selenium\n",
      "Home-page: https://github.com/SeleniumHQ/selenium/\n",
      "Author: UNKNOWN\n",
      "Author-email: UNKNOWN\n",
      "License: Apache 2.0\n",
      "Location: /Users/iseunghyeon/opt/anaconda3/lib/python3.9/site-packages\n",
      "Requires: urllib3\n",
      "Required-by: \n"
     ]
    }
   ],
   "source": [
    "!pip show selenium"
   ]
  },
  {
   "cell_type": "code",
   "execution_count": null,
   "metadata": {},
   "outputs": [],
   "source": []
  }
 ],
 "metadata": {
  "kernelspec": {
   "display_name": "haviEnv0727",
   "language": "python",
   "name": "python3"
  },
  "language_info": {
   "codemirror_mode": {
    "name": "ipython",
    "version": 3
   },
   "file_extension": ".py",
   "mimetype": "text/x-python",
   "name": "python",
   "nbconvert_exporter": "python",
   "pygments_lexer": "ipython3",
   "version": "3.9.12"
  },
  "orig_nbformat": 4
 },
 "nbformat": 4,
 "nbformat_minor": 2
}
