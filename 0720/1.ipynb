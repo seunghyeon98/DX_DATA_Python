{
 "cells": [
  {
   "cell_type": "code",
   "execution_count": null,
   "metadata": {},
   "outputs": [],
   "source": [
    "# import sys\n",
    "# try:\n",
    "#     con = pymysql.connect(host='localhost',port=3306,db='havi',user='root',passwd='6619',charset='utf8')\n",
    "# except:\n",
    "#     print('error:',sys.exc_info())\n",
    "# finally:\n",
    "#     if con != None:\n",
    "#         con.close()"
   ]
  },
  {
   "cell_type": "markdown",
   "metadata": {},
   "source": [
    "# DB 연동 과 DML 작업\n"
   ]
  },
  {
   "cell_type": "markdown",
   "metadata": {},
   "source": [
    "* 연결 객체 con을 통해 cursor함수를 호출하여, sql 실행 객체를 리턴받는다.\n",
    "\n",
    "* sql 실행 객체.execute(SQL문장[,파라미터 값 나열])\n",
    "\n",
    "* 파라미터 값을 sql에 삽입할 수 있고, 서식을 설정한 다음 대입해도 된다.\n",
    "\n",
    "* 최근에는 보안상의 문제로 서식을 설정해서 대입하는 것을 권장한다.\n",
    "\n",
    "* DB연결 객체(con).commit()을 호출하면 원본에 반영되고, rollback()을 호출하면 원본에 반영되지 않는다."
   ]
  },
  {
   "cell_type": "markdown",
   "metadata": {},
   "source": [
    "# DQL 작업\n",
    "\n",
    "* fetchone() -> tuple\n",
    "\n",
    "    기본키를 조건으로 해서 조회하는 경우이고, 그 이외의 경우는 fetchall을 호출한다.\n",
    "\n",
    "    Where? : 회원정보 조회시 사용한다.\n",
    "    \n",
    "* fetchall \n",
    "\n",
    "    fetchall에선 반환된 데이터가 없을시, None을 리턴하지 않는다.\n",
    "        -> 빈 리스트를 반환함.\n",
    "    따라서, 반환된 데이터가 없는 경우의 조건은 len(record)==0 으로 사용하자."
   ]
  },
  {
   "cell_type": "code",
   "execution_count": 25,
   "metadata": {},
   "outputs": [
    {
     "name": "stdout",
     "output_type": "stream",
     "text": [
      "김대호.jpg\n",
      "<pymysql.connections.Connection object at 0x000001B6F56B7A90>\n"
     ]
    }
   ],
   "source": [
    "import pymysql\n",
    "# 연결 객체 생성\n",
    "con = pymysql.connect(host='localhost',port=3306,db='havi',user='root',passwd='6619',charset='utf8')\n",
    "\n",
    "# SQL실행 객체 생성\n",
    "cursor = con.cursor()\n",
    "\n",
    "# sql 실행 - 값을 직접 sql에 작성\n",
    "# cursor.execute('INSERT INTO DEPT VALUES(11,'비서','서울')')\n",
    "\n",
    "\n",
    "# SQL 실행 - SQL에 서식을 설정하고, 파라미터를 대입하는 코드 작성\n",
    "# insert 할때 다음과 같이 할것! -> statement 방식이라고 함!!!!!!!!!!\n",
    "# cursor.execute('INSERT INTO DEPT VALUES(%s,%s,%s)',(12,'HAVI','SEOUL'))\n",
    "\n",
    "\n",
    "\n",
    "# update, 12번 데이터의 부서를 영업 그리고 위치를 서초로 수정\n",
    "# cursor.execute('UPDATE DEPT SET DNAME=%s, LOC=%s WHERE DEPTNO=%s', ('영업','서초',12))\n",
    "\n",
    "# delete\n",
    "# cursor.execute('DELETE FROM DEPT WHERE DEPTNO=%s',(12))\n",
    "\n",
    "\n",
    "\n",
    "# # DQL 작업\n",
    "cursor.execute(\n",
    "    \"SELECT * FROM DEPT WHERE DEPTNO =%s\",(10)\n",
    ")\n",
    "\n",
    "\n",
    "# record = cursor.fetchone()\n",
    "# # 검색결과가 없으면, None을 반환하기 때문에, 데이터 없을 시 처리할 출력문 설정\n",
    "# if record==None:\n",
    "#     print('Empty!!')\n",
    "# else:\n",
    "#     print(record)\n",
    "\n",
    "\n",
    "# record = cursor.fetchall()\n",
    "# if len(record)==0: # fetchall()의 리턴값이 데이터가 없는 경우의 조건은, 리스트의 길이가 0일때이다.\n",
    "#     print('Empty!!')\n",
    "# else:\n",
    "#     for elm in record:\n",
    "#         print(elm)\n",
    "\n",
    "\n",
    "# DB에 이미지 넣기\n",
    "# f = open(r'C:\\Users\\USER\\Desktop\\img_store\\kim.jpg','rb')\n",
    "# fav_person = f.read()\n",
    "# f.close()\n",
    "\n",
    "# cursor.execute(\n",
    "#     'INSERT INTO BLOBTABLE VALUES(%s,%s)',\n",
    "#     ('김대호.jpg',fav_person)\n",
    "# )\n",
    "\n",
    "\n",
    "\n",
    "# DB -> 파이썬으로 이미지 읽어오기.\n",
    "cursor.execute(\n",
    "    'SELECT * FROM BLOBTABLE'\n",
    ")\n",
    "data = cursor.fetchone()\n",
    "\n",
    "# 두 번째 데이터가 blob이므로, 두 번째 데이터를 파일로 변경한다.\n",
    "print(data[0]) # 파일명\n",
    "\n",
    "f = open(data[0],'wb')\n",
    "\n",
    "f.write(data[1]) # 파일 내용\n",
    "f.close()\n",
    "\n",
    "\n",
    "# DB에 있는 원본에 반영을 할려면, COMMIT해주어야함\n",
    "con.commit()\n",
    "\n",
    "\n",
    "\n",
    "\n",
    "print(con)\n",
    "con.close()"
   ]
  },
  {
   "cell_type": "code",
   "execution_count": null,
   "metadata": {},
   "outputs": [],
   "source": []
  }
 ],
 "metadata": {
  "kernelspec": {
   "display_name": "base",
   "language": "python",
   "name": "python3"
  },
  "language_info": {
   "codemirror_mode": {
    "name": "ipython",
    "version": 3
   },
   "file_extension": ".py",
   "mimetype": "text/x-python",
   "name": "python",
   "nbconvert_exporter": "python",
   "pygments_lexer": "ipython3",
   "version": "3.10.9"
  },
  "orig_nbformat": 4
 },
 "nbformat": 4,
 "nbformat_minor": 2
}
