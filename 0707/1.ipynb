{
 "cells": [
  {
   "cell_type": "code",
   "execution_count": 14,
   "metadata": {},
   "outputs": [
    {
     "name": "stdout",
     "output_type": "stream",
     "text": [
      "합격\n"
     ]
    }
   ],
   "source": [
    "score = int(input('점수를 입력하세요.'))\n",
    "print('합격') if score >= 60 else print('불합격')\n",
    "# grade =None\n",
    "# if score>=90 and score<=100:\n",
    "#     grade ='A'\n",
    "# elif score>=80 and score<90:\n",
    "#     grade = 'B'\n",
    "# elif score>=70 and score<80:\n",
    "#     grade = 'C'\n",
    "# elif score>=60 and score<70:\n",
    "#     grade ='D'\n",
    "# elif score>=0 and score<60:\n",
    "#     grade = 'F'\n",
    "# else:\n",
    "#     print('wrong input')\n",
    "# print(grade)\n"
   ]
  },
  {
   "cell_type": "code",
   "execution_count": 9,
   "metadata": {},
   "outputs": [
    {
     "data": {
      "text/plain": [
       "'알 수 없는 넘버'"
      ]
     },
     "execution_count": 9,
     "metadata": {},
     "output_type": "execute_result"
    }
   ],
   "source": [
    "number2day = {0:'일요일',1:'월요일',2:'화요일',3:'수요일',4:'목요일',5:'금요일',6:'토요일'}\n",
    "\n",
    "# 딕셔너리에서 값을 가져올때, 이렇게 가져오지않는다.\n",
    "# 없는 값을 가져오면, 에러가 나기 때문\n",
    "number2day[2]\n",
    "\n",
    "# get을 통해 가져와야함, 에러가 안나게, default값을 설정할 수 있기 때문\n",
    "number2day.get(7,'알 수 없는 넘버')"
   ]
  },
  {
   "cell_type": "code",
   "execution_count": 17,
   "metadata": {},
   "outputs": [
    {
     "name": "stdout",
     "output_type": "stream",
     "text": [
      "0\n",
      "1\n",
      "2\n",
      "3\n",
      "4\n",
      "5\n"
     ]
    }
   ],
   "source": [
    "idx =0 \n",
    "while idx<10:\n",
    "    print(idx)\n",
    "    idx = idx+1\n",
    "    if idx>5:\n",
    "        break\n",
    "else:\n",
    "    print('반복문 종료')\n"
   ]
  },
  {
   "cell_type": "code",
   "execution_count": null,
   "metadata": {},
   "outputs": [],
   "source": [
    "help(range)"
   ]
  },
  {
   "cell_type": "code",
   "execution_count": 25,
   "metadata": {},
   "outputs": [
    {
     "name": "stdout",
     "output_type": "stream",
     "text": [
      "https://www.dona.com/news/search>p=1\n",
      "https://www.dona.com/news/search>p=1\n",
      "https://www.dona.com/news/search>p=16\n",
      "https://www.dona.com/news/search>p=16\n",
      "https://www.dona.com/news/search>p=31\n",
      "https://www.dona.com/news/search>p=31\n"
     ]
    }
   ],
   "source": [
    "start =1\n",
    "url ='https://www.dona.com/news/search>p=' \n",
    "for idx in range(3):\n",
    "    newurl=url+str(start)\n",
    "    print(newurl)\n",
    "    start+=15\n",
    "\n",
    "    # 이방법이 더 좋은것 같네\n",
    "    newurl2 = url + str((idx*15)+1)\n",
    "    print(newurl2)"
   ]
  },
  {
   "cell_type": "code",
   "execution_count": 22,
   "metadata": {},
   "outputs": [
    {
     "name": "stdout",
     "output_type": "stream",
     "text": [
      "https://www.dona.com/news/search>p=1\n",
      "https://www.dona.com/news/search>p=16\n",
      "https://www.dona.com/news/search>p=31\n"
     ]
    }
   ],
   "source": [
    "for idx in range(3):\n",
    "    print('https://www.dona.com/news/search>p=',(idx*15)+1,sep=\"\" )"
   ]
  },
  {
   "attachments": {},
   "cell_type": "markdown",
   "metadata": {},
   "source": [
    "# 별찍기"
   ]
  },
  {
   "cell_type": "code",
   "execution_count": null,
   "metadata": {},
   "outputs": [],
   "source": [
    "# 이중 for문 버전\n",
    "for idx in range(5):\n",
    "    for jdx in range(5):\n",
    "        print(\"*\",end=\"\")\n",
    "    print()\n",
    "\n",
    "# 단일 for문 버전\n",
    "# % 연산을 적극 이용하자\n",
    "for i in range(1,26):\n",
    "    print('*',end=\"\")\n",
    "    # 5로 나누어 떨어질 때 마다 줄바꿈\n",
    "    if i % 5 ==0:\n",
    "        print()"
   ]
  },
  {
   "cell_type": "code",
   "execution_count": 29,
   "metadata": {},
   "outputs": [
    {
     "name": "stdout",
     "output_type": "stream",
     "text": [
      "*****\n",
      "****\n",
      "***\n",
      "**\n",
      "*\n"
     ]
    }
   ],
   "source": [
    "# # 라인 넘버 적기\n",
    "# i      j: 1*i\n",
    "# 0 *     0-0\n",
    "# 1 **    0-1\n",
    "# 2 ***   0-2\n",
    "# 3 ****  0-3\n",
    "# 4 ***** 0-4\n",
    "\n",
    "# 몇 개씩 변하는 지(증감하는 부분)만 파악해라.\n",
    "# i 와 j 의 관계를 파악해라.\n",
    "# \n",
    "for idx in range(5):\n",
    "    # 이 for문 부분만 수정하기.\n",
    "    for jdx in range(5-idx):\n",
    "        print(\"*\",end=\"\")\n",
    "    print()"
   ]
  },
  {
   "cell_type": "code",
   "execution_count": null,
   "metadata": {},
   "outputs": [],
   "source": [
    "# *\n",
    "# **\n",
    "# ***\n",
    "# **\n",
    "# *\n",
    "# 분할 (쪼개기, if, else 사용)과\n"
   ]
  },
  {
   "cell_type": "code",
   "execution_count": 30,
   "metadata": {},
   "outputs": [
    {
     "name": "stdout",
     "output_type": "stream",
     "text": [
      "*\n",
      "**\n",
      "***\n",
      "**\n",
      "*\n"
     ]
    }
   ],
   "source": [
    "for idx in range(5):\n",
    "    if idx<3:\n",
    "        # 늘어나는 규칙\n",
    "        for jdx in range(idx*1+1):\n",
    "            print(\"*\",end=\"\")\n",
    "    else:\n",
    "        # 줄어드는 규칙\n",
    "        for jdx in range(5-idx):\n",
    "            print(\"*\",end=\"\")\n",
    "    print()"
   ]
  },
  {
   "cell_type": "code",
   "execution_count": 64,
   "metadata": {},
   "outputs": [],
   "source": [
    "#0     *\n",
    "#1    * *\n",
    "#2   *   *\n",
    "#3  *     *\n",
    "#4 *********"
   ]
  },
  {
   "cell_type": "code",
   "execution_count": 66,
   "metadata": {},
   "outputs": [],
   "source": [
    "# cnt =0 \n",
    "# for i in range(5):\n",
    "#     if i==0 or i==4:\n",
    "#         공백출력\n",
    "#         별출력\n",
    "#     else:\n",
    "#         공백출력\n",
    "#         별하나 출력\n",
    "#         공백출력\n",
    "#         별하나 출력\n",
    "        "
   ]
  },
  {
   "cell_type": "code",
   "execution_count": null,
   "metadata": {},
   "outputs": [],
   "source": [
    "for i in range(5):\n",
    "    if i==0 or i==4:\n",
    "        print(\" \")\n",
    "        print(\"*\")\n",
    "    else:\n",
    "        print(\" \")\n",
    "        print(\"*\")\n",
    "        print(\" \")\n",
    "        print(\"*\")\n",
    "        "
   ]
  },
  {
   "cell_type": "code",
   "execution_count": 31,
   "metadata": {},
   "outputs": [],
   "source": [
    "# 2 부터 100 까지 완전수의 개수\n",
    "# 완전수란?\n",
    "#   완전수는 자신의 제외한 약수의 합이 자신과 같은 수\n",
    "#   Ex) 6은 완전수 6의 약수는 1,2,3,6\n"
   ]
  },
  {
   "cell_type": "code",
   "execution_count": 60,
   "metadata": {},
   "outputs": [
    {
     "name": "stdout",
     "output_type": "stream",
     "text": [
      "3\n"
     ]
    }
   ],
   "source": [
    "# 약수 리스트 구하기\n",
    "count=0\n",
    "answer_list=[]\n",
    "for idx in range(2,1001):\n",
    "    temp=[]\n",
    "    for jdx in range(1,idx+1):\n",
    "        if(idx%jdx==0):\n",
    "          temp.append(jdx)\n",
    "    if(sum(temp[:len(temp)-1])==temp[-1]):\n",
    "        count+=1\n",
    "        answer_list.append(idx)\n",
    "\n",
    "print(count)"
   ]
  },
  {
   "cell_type": "code",
   "execution_count": null,
   "metadata": {},
   "outputs": [],
   "source": [
    "cnt =0\n",
    "for idx in range(2,1001):\n",
    "    # 약수의 합을 저장할 변수\n",
    "    # 합계를 구할 때 무조건 0으로 초기화 하지 않음\n",
    "    hap=1\n",
    "\n",
    "    # 나머지가 0이 나오는 숫자가 약수\n",
    "    for su in range(2,idx//2+1):\n",
    "        if idx % su ==0:\n",
    "            hap=hap+su\n",
    "\n",
    "    # 완전수 판별\n",
    "    if idx==hap:\n",
    "        cnt+=1\n"
   ]
  },
  {
   "cell_type": "code",
   "execution_count": 36,
   "metadata": {},
   "outputs": [],
   "source": [
    "# 피보나치 수열 (외워서라도 가기)\n",
    "# - 첫번째와 두 번째는 1\n",
    "# - 세번째 데이터 부터는 앞의 2개의합\n",
    "# 1,1,2,3,5,8,13,21,34,55,89,...\n",
    "# n번째 피보나치 수열의 값을 구하는 로직을 작성\n",
    "\n",
    "n : 0 -> 1\n",
    "n : 1 -> 1\n",
    "n : 2 -> 2\n",
    "n : 3 -> 3"
   ]
  },
  {
   "cell_type": "code",
   "execution_count": 63,
   "metadata": {},
   "outputs": [
    {
     "name": "stdout",
     "output_type": "stream",
     "text": [
      "5\n"
     ]
    }
   ],
   "source": [
    "\n",
    "n = int(input('수입력:'))\n",
    "if n==1 or n==2:\n",
    "    print(1)\n",
    "else:\n",
    "    n_1 = 1 # 직전항\n",
    "    n_2 = 1 # 두번째 앞의 항\n",
    "    result =0 # 실제 결과\n",
    "    for idx in range(3,n+1):\n",
    "        result = n_1+n_2\n",
    "        n_2=n_1\n",
    "        n_1=result\n",
    "    print(result)    \n",
    "# n_2, n_1, result"
   ]
  },
  {
   "cell_type": "code",
   "execution_count": 68,
   "metadata": {},
   "outputs": [
    {
     "name": "stdout",
     "output_type": "stream",
     "text": [
      "Help on built-in function max in module builtins:\n",
      "\n",
      "max(...)\n",
      "    max(iterable, *[, default=obj, key=func]) -> value\n",
      "    max(arg1, arg2, *args, *[, key=func]) -> value\n",
      "    \n",
      "    With a single iterable argument, return its biggest item. The\n",
      "    default keyword-only argument specifies an object to return if\n",
      "    the provided iterable is empty.\n",
      "    With two or more arguments, return the largest argument.\n",
      "\n"
     ]
    }
   ],
   "source": [
    "help(max)"
   ]
  },
  {
   "cell_type": "code",
   "execution_count": null,
   "metadata": {},
   "outputs": [],
   "source": [
    "# 함수가 종료되고 다시 함수를 호출하기에\n",
    "# 어느 한 순간에 하나의 스택만 존재\n",
    "result = intAddWithInt(100,300)\n",
    "x = intAddWithInt(result,600)\n",
    "\n",
    "# 함수의 수행이 종료되기 전에 다른 함수를 호출하기에\n",
    "# 2개의 스택이 존재.\n",
    "intAddWithInt(intAddWithInt(100,300),600)\n",
    "\n",
    "\n",
    "\n"
   ]
  },
  {
   "cell_type": "code",
   "execution_count": 69,
   "metadata": {},
   "outputs": [
    {
     "data": {
      "text/plain": [
       "400"
      ]
     },
     "execution_count": 69,
     "metadata": {},
     "output_type": "execute_result"
    }
   ],
   "source": [
    "def add(a:int,b:int)->int:\n",
    "    return a+b\n",
    "add(100,300)"
   ]
  },
  {
   "cell_type": "code",
   "execution_count": 71,
   "metadata": {},
   "outputs": [
    {
     "name": "stdout",
     "output_type": "stream",
     "text": [
      "[100, 200, 300]\n",
      "[20, 200, 300]\n"
     ]
    }
   ],
   "source": [
    "def callByReference(li:list)->None:\n",
    "\tli[0]=20\n",
    "\tprint(li)\n",
    "l=[100,200,300]\n",
    "print(l)\n",
    "callByReference(l)"
   ]
  },
  {
   "cell_type": "code",
   "execution_count": 72,
   "metadata": {},
   "outputs": [
    {
     "name": "stdout",
     "output_type": "stream",
     "text": [
      "havi\tsoccer\tteam\n"
     ]
    }
   ],
   "source": [
    "print('havi','soccer','team',sep='\\t')"
   ]
  },
  {
   "cell_type": "code",
   "execution_count": 73,
   "metadata": {},
   "outputs": [
    {
     "name": "stdout",
     "output_type": "stream",
     "text": [
      "10 20\n",
      "100 200\n"
     ]
    }
   ],
   "source": [
    "def collect(a,b):\n",
    "\tprint(a,end=' ')\n",
    "\tprint(b)\n",
    "\n",
    "collect(10,20)\n",
    "collect(*[100,200]) # list를 분할해서 a에 100, b에 200이 대입"
   ]
  },
  {
   "attachments": {},
   "cell_type": "markdown",
   "metadata": {},
   "source": [
    "# 재귀함수"
   ]
  },
  {
   "cell_type": "code",
   "execution_count": 74,
   "metadata": {},
   "outputs": [
    {
     "data": {
      "text/plain": [
       "55"
      ]
     },
     "execution_count": 74,
     "metadata": {},
     "output_type": "execute_result"
    }
   ],
   "source": [
    "\n",
    "def hap(n:int)->int:\n",
    "\tif n==1:\n",
    "\t\treturn 1\n",
    "\treturn n + hap(n-1)\n",
    "\t# 10 + 9 + 8 + 7 + ...\n",
    "hap(10)"
   ]
  },
  {
   "cell_type": "code",
   "execution_count": 14,
   "metadata": {},
   "outputs": [
    {
     "name": "stdout",
     "output_type": "stream",
     "text": [
      "8\n",
      "Help on function fibonacci in module __main__:\n",
      "\n",
      "fibonacci(n: int) -> int\n",
      "    재귀를 이용해서 피보나치 수열의 값을 리턴하는 함수\n",
      "\n"
     ]
    }
   ],
   "source": [
    "# 피보나치 수열을 재귀함수로 만들기\n",
    "# 1,2,3,4,5,6,7,8,9,10\n",
    "# 1,1,2,3,5,8,13,21,34,55,89,...\n",
    "def fibonacci(n:int)->int:\n",
    "    if n==1 or n==2:\n",
    "        return 1\n",
    "    # print(n)\n",
    "    return fibonacci(n-1) + fibonacci(n-2)\n",
    "# 9 8, 8 7, 6 5, 4 3, 1 1,\n",
    "print(fibonacci(6)) # 55\n",
    "# print(fibonacci(11)) # 89\n",
    "\n",
    "fibonacci.__doc__='재귀를 이용해서 피보나치 수열의 값을 리턴하는 함수'\n",
    "help(fibonacci)\n"
   ]
  },
  {
   "cell_type": "code",
   "execution_count": 17,
   "metadata": {},
   "outputs": [
    {
     "name": "stdout",
     "output_type": "stream",
     "text": [
      "내부함수\n"
     ]
    }
   ],
   "source": [
    "def outer():\n",
    "\tdef inner():\n",
    "\t\tprint('내부함수')\n",
    "\treturn inner\n",
    "func = outer()\n",
    "func()"
   ]
  },
  {
   "cell_type": "code",
   "execution_count": null,
   "metadata": {},
   "outputs": [],
   "source": []
  }
 ],
 "metadata": {
  "kernelspec": {
   "display_name": "base",
   "language": "python",
   "name": "python3"
  },
  "language_info": {
   "codemirror_mode": {
    "name": "ipython",
    "version": 3
   },
   "file_extension": ".py",
   "mimetype": "text/x-python",
   "name": "python",
   "nbconvert_exporter": "python",
   "pygments_lexer": "ipython3",
   "version": "3.10.9"
  },
  "orig_nbformat": 4
 },
 "nbformat": 4,
 "nbformat_minor": 2
}
